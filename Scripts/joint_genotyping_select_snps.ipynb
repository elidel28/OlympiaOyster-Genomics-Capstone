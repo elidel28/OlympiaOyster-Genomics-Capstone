{
 "cells": [
  {
   "cell_type": "code",
   "execution_count": null,
   "id": "eadc5b91-3927-43d8-bb99-ac38765f8d94",
   "metadata": {
    "collapsed": true,
    "jupyter": {
     "outputs_hidden": true
    }
   },
   "outputs": [],
   "source": [
    "\"\"\"\n",
    "Joint Genotyping and SNP Selection using GATK.\n",
    "\n",
    "This script performs:\n",
    "1. Joint genotyping on a combined GVCF\n",
    "2. SNP-only selection from the joint-genotyped VCF\n",
    "\"\"\"\n",
    "\n",
    "import os\n",
    "import subprocess\n",
    "import yaml\n",
    "\n",
    "\n",
    "def load_config(config_path=\"config/config.yaml\"):\n",
    "    with open(config_path, \"r\") as f:\n",
    "        return yaml.safe_load(f)\n",
    "\n",
    "\n",
    "def joint_genotyping(config):\n",
    "    \"\"\"Run GenotypeGVCFs to produce a joint VCF.\"\"\"\n",
    "    gatk = config[\"gatk_path\"]\n",
    "    ref = config[\"reference\"]\n",
    "    gvcf = config[\"combined_gvcf\"]\n",
    "    output = config[\"joint_vcf\"]\n",
    "    ram = config.get(\"ram\", \"8g\")\n",
    "\n",
    "    print(f\"Running joint genotyping → {output}\")\n",
    "    subprocess.run([\n",
    "        gatk, \"--java-options\", f\"-Xmx{ram}\", \"GenotypeGVCFs\",\n",
    "        \"-R\", ref,\n",
    "        \"-V\", gvcf,\n",
    "        \"-O\", output\n",
    "    ], check=True)\n",
    "\n",
    "\n",
    "def select_snps(config):\n",
    "    \"\"\"Extract SNPs from a joint-genotyped VCF.\"\"\"\n",
    "    gatk = config[\"gatk_path\"]\n",
    "    ref = config[\"reference\"]\n",
    "    joint_vcf = config[\"joint_vcf\"]\n",
    "    snps_vcf = config[\"snps_vcf\"]\n",
    "    ram = config.get(\"ram\", \"8g\")\n",
    "\n",
    "    print(f\"Selecting SNPs only → {snps_vcf}\")\n",
    "    subprocess.run([\n",
    "        gatk, \"--java-options\", f\"-Xmx{ram}\", \"SelectVariants\",\n",
    "        \"-R\", ref,\n",
    "        \"-V\", joint_vcf,\n",
    "        \"--select-type-to-include\", \"SNP\",\n",
    "        \"-O\", snps_vcf\n",
    "    ], check=True)\n",
    "\n",
    "\n",
    "def main():\n",
    "    config = load_config()\n",
    "    joint_genotyping(config)\n",
    "    select_snps(config)\n",
    "\n",
    "\n",
    "if __name__ == \"__main__\":\n",
    "    main()\n"
   ]
  }
 ],
 "metadata": {
  "kernelspec": {
   "display_name": "Python 3 (ipykernel)",
   "language": "python",
   "name": "python3"
  },
  "language_info": {
   "codemirror_mode": {
    "name": "ipython",
    "version": 3
   },
   "file_extension": ".py",
   "mimetype": "text/x-python",
   "name": "python",
   "nbconvert_exporter": "python",
   "pygments_lexer": "ipython3",
   "version": "3.8.10"
  }
 },
 "nbformat": 4,
 "nbformat_minor": 5
}
