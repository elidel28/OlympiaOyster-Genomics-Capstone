{
 "cells": [
  {
   "cell_type": "code",
   "execution_count": null,
   "id": "eb9dfd0e-e852-4414-97b0-181a6d742f89",
   "metadata": {},
   "outputs": [],
   "source": [
    "reference = \"/mnt/jupiter/johnsonlab/Capstone_proj/annotation_jasmine-the2899-mb-hirise-ahy4t__02-20-2022__hic_output.fasta\"\n",
    "out_dir = \"/mnt/jupiter/johnsonlab/Capstone_proj/results/BQSR\"\n",
    "bam_dir = \"/mnt/jupiter/johnsonlab/Capstone_proj/results/test_results/BAM/Sorted\"\n",
    "genome_file = \"/mnt/jupiter/johnsonlab/Capstone_proj/genome.txt\"\n",
    "gatk_path = \"/bin/gatk-4.6.2.0/gatk\"\n",
    "threads = \"10\"\n",
    "ram = \"8g\"\n",
    "\n",
    "combined_gvcf = f\"{out_dir}/cohort_combined.g.vcf\"\n",
    "joint_vcf = f\"{out_dir}/cohort_genotyped.vcf\"\n",
    "snps_vcf = f\"{out_dir}/cohort_snps.vcf\"\n",
    "\n",
    "maf_filtered_vcf = f\"{out_dir}/cohort.selected_snps.vcf\"\n",
    "\n",
    "snp_bed = f\"{out_dir}/cohort.snps.bed\"\n",
    "snp_windows = f\"{out_dir}/cohort.snp_windows_30bp.bed\"\n",
    "snp_counts = f\"{out_dir}/cohort.snps_with_counts.txt\"\n",
    "final_snps_bed = f\"{out_dir}/cohort.final_snps.bed\"\n",
    "\n",
    "\n",
    "\n",
    "#Step 5: Joint Genotyping\n",
    "subprocess.run([\n",
    "    gatk_path, \"--java-options\", f\"-Xmx{ram}\", \"GenotypeGVCFs\",\n",
    "    \"-R\", reference,\n",
    "    \"-V\", combined_gvcf,\n",
    "    \"-O\", joint_vcf\n",
    "    ])\n",
    "\n",
    "#Step 6: Select SNPs only\n",
    "subprocess.run([\n",
    "    gatk_path, \"--java-options\", f\"-Xmx{ram}\", \"SelectVariants\",\n",
    "    \"-V\", joint_vcf,\n",
    "    \"--select-type-to-include\", \"SNP\",\n",
    "    \"-O\", snps_vcf\n",
    "])\n"
   ]
  }
 ],
 "metadata": {
  "kernelspec": {
   "display_name": "Python 3 (ipykernel)",
   "language": "python",
   "name": "python3"
  },
  "language_info": {
   "codemirror_mode": {
    "name": "ipython",
    "version": 3
   },
   "file_extension": ".py",
   "mimetype": "text/x-python",
   "name": "python",
   "nbconvert_exporter": "python",
   "pygments_lexer": "ipython3",
   "version": "3.8.10"
  }
 },
 "nbformat": 4,
 "nbformat_minor": 5
}
