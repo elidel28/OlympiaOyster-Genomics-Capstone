{
 "cells": [
  {
   "cell_type": "code",
   "execution_count": null,
   "id": "9db166a6-cfc3-449d-8302-0ea140a82226",
   "metadata": {},
   "outputs": [],
   "source": [
    "import subprocess\n",
    "import os\n",
    "\n",
    "# Config\n",
    "reference = \"/mnt/jupiter/johnsonlab/Capstone_proj/annotation_jasmine-the2899-mb-hirise-ahy4t__02-20-2022__hic_output.fasta\"\n",
    "out_dir = \"/mnt/jupiter/johnsonlab/Capstone_proj/results/BQSR\"\n",
    "gatk_path = \"/bin/gatk-4.6.2.0/gatk\"\n",
    "threads = \"15\"\n",
    "\n",
    "# Sample list\n",
    "files = [\n",
    "    \"10KP_RG\", \"14KP_RG\", \"15AZ\", \"28KP\", \"31SMW\", \"32SMW\", \n",
    "    \"34SMW\", \"35SMW\", \"36SMW_RG\", \"38SMW_RG\", \"39SMW_RG\",\n",
    "    \"46SMW_RG\", \"52SMW\", \"55SMW\", \"57SMW\", \"69SMF_RG\", \n",
    "    \"70SMF_RG\", \"8KP_RG\", \"9KP_RG\", \"MOR021_RG\", \"MOR023_RG\"\n",
    "]\n",
    "\n",
    "# Collect gVCFs and ensure indexing\n",
    "final_gvcfs = []\n",
    "for file in files:\n",
    "    print(f\"🔍 Checking sample: {file}\")\n",
    "    final_gvcf = f\"{out_dir}/{file}.final.g.vcf\"\n",
    "    final_idx = f\"{final_gvcf}.idx\"\n",
    "\n",
    "    if os.path.exists(final_gvcf):\n",
    "        if not os.path.exists(final_idx):\n",
    "            print(f\"Indexing missing for {file} — indexing now.\")\n",
    "            subprocess.run([\n",
    "                gatk_path, \"IndexFeatureFile\",\n",
    "                \"-I\", final_gvcf\n",
    "            ], check=True)\n",
    "        else:\n",
    "            print(f\"Index already exists for {file}.\")\n",
    "        final_gvcfs.append(final_gvcf)\n",
    "    else:\n",
    "        print(f\"Missing GVCF: {final_gvcf}\")\n",
    "\n",
    "# Combine GVCFs\n",
    "combined_gvcf = os.path.join(out_dir, \"cohort_combined.g.vcf\")\n",
    "\n",
    "# Prepare list of \"-V file\" args\n",
    "variant_args = []\n",
    "for gvcf in final_gvcfs:\n",
    "    variant_args.extend([\"-V\", gvcf])\n",
    "\n",
    "# Run CombineGVCFs\n",
    "subprocess.run([\n",
    "    gatk_path, \"CombineGVCFs\",\n",
    "    \"-R\", reference,\n",
    "    \"-O\", combined_gvcf\n",
    "] + variant_args, check=True)\n"
   ]
  }
 ],
 "metadata": {
  "kernelspec": {
   "display_name": "Python 3 (ipykernel)",
   "language": "python",
   "name": "python3"
  },
  "language_info": {
   "codemirror_mode": {
    "name": "ipython",
    "version": 3
   },
   "file_extension": ".py",
   "mimetype": "text/x-python",
   "name": "python",
   "nbconvert_exporter": "python",
   "pygments_lexer": "ipython3",
   "version": "3.8.10"
  }
 },
 "nbformat": 4,
 "nbformat_minor": 5
}
