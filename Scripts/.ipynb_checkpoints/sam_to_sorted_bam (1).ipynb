{
 "cells": [
  {
   "cell_type": "code",
   "execution_count": null,
   "id": "1235fa8c-2555-49cb-90a7-bebcf7337010",
   "metadata": {},
   "outputs": [],
   "source": [
    "# SAMtools SAM -> BAM, Sorted BAM, and Indexed BAM files\n",
    "\"\"\"\n",
    "Typically fast enough, but could make it more efficient by running multiple files in parallel\n",
    "\"\"\"\n",
    "import subprocess\n",
    "\n",
    "files = [\n",
    "    \"10KP\", \"14KP\", \"15AZ\", \"28KP\", \"31SMW\", \"32SMW\", \"34SMW\", \"35SMW\", \"36SMW\", \"38SMW\", \"39SMW\",\n",
    "    \"46SMW\", \"52SMW\", \"55SMW\", \"57SMW\", \"69SMF\", \"70SMF\", \"8KP\", \"9KP\", \"MOR021\", \"MOR023\"\n",
    "]\n",
    "\n",
    "for file in files:\n",
    "    print(f\"Processing sample: {file}\")\n",
    "    \n",
    "    sam = f\"/mnt/jupiter/johnsonlab/Capstone_proj/test_results/SAM/{file}.sam\"\n",
    "    bam = f\"/mnt/jupiter/johnsonlab/Capstone_proj/test_results/BAM/{file}.bam\"\n",
    "    sorted_bam = f\"/mnt/jupiter/johnsonlab/Capstone_proj/test_results/BAM/Sorted/{file}.sorted.bam\"\n",
    "    threads = \"10\"\n",
    "    ram = \"1g\" # RAM per thread\n",
    "\n",
    "    # Step 1: Convert SAM to BAM\n",
    "    subprocess.run([\n",
    "        \"samtools\", \"view\",\n",
    "        \"-bS\", sam,\n",
    "        \"-o\", bam\n",
    "    ], check=True)\n",
    "\n",
    "    # Step 2: Sort BAM\n",
    "    subprocess.run([\n",
    "        \"samtools\", \"sort\",\n",
    "        \"-@\", threads,\n",
    "        \"-m\", ram,\n",
    "        \"-o\", sorted_bam,\n",
    "        bam\n",
    "    ], check=True)\n",
    "\n",
    "    # Step 3: Index BAM\n",
    "    subprocess.run([\n",
    "        \"samtools\", \"index\",\n",
    "        \"-@\", threads,\n",
    "        sorted_bam\n",
    "    ], check=True)\n"
   ]
  }
 ],
 "metadata": {
  "kernelspec": {
   "display_name": "Python 3 (ipykernel)",
   "language": "python",
   "name": "python3"
  },
  "language_info": {
   "codemirror_mode": {
    "name": "ipython",
    "version": 3
   },
   "file_extension": ".py",
   "mimetype": "text/x-python",
   "name": "python",
   "nbconvert_exporter": "python",
   "pygments_lexer": "ipython3",
   "version": "3.8.10"
  }
 },
 "nbformat": 4,
 "nbformat_minor": 5
}
