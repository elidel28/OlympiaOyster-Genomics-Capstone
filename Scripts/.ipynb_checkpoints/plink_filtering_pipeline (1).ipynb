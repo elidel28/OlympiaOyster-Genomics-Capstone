{
 "cells": [
  {
   "cell_type": "code",
   "execution_count": null,
   "id": "9b978dd0-21ea-436e-a9c6-1c840c824397",
   "metadata": {},
   "outputs": [],
   "source": [
    "import subprocess\n",
    "import os\n",
    "\n",
    "# CONFIGURATION \n",
    "vcf_input = \"/mnt/jupiter/johnsonlab/Capstone_proj/results/BQSR/cohort_snps.vcf\"\n",
    "work_dir = \"/mnt/jupiter/johnsonlab/Capstone_proj/results/BQSR/plink_analysis\"\n",
    "os.makedirs(work_dir, exist_ok=True)\n",
    "\n",
    "plink_prefix = f\"{work_dir}/cohort_plink\"\n",
    "stats_prefix = f\"{work_dir}/cohort_stats\"\n",
    "filtered_prefix = f\"{work_dir}/cohort_filtered\"\n",
    "final_vcf = f\"{work_dir}/cohort_filtered_snps.vcf\"\n",
    "\n",
    "# STEP 1: Convert VCF to PLINK format\n",
    "subprocess.run([\n",
    "    \"plink\", \"--vcf\", vcf_input,\n",
    "    \"--allow-extra-chr\",  # Accept non-standard chromosome names\n",
    "    \"--make-bed\", \"--out\", plink_prefix\n",
    "], check=True)\n",
    "\n",
    "# STEP 2: Compute MAF and F_MISS\n",
    "subprocess.run([\n",
    "    \"plink\", \"--bfile\", plink_prefix,\n",
    "    \"--allow-extra-chr\",  \n",
    "    \"--freq\",\n",
    "    \"--missing\",\n",
    "    \"--out\", stats_prefix\n",
    "], check=True)\n",
    "\n",
    "# STEP 3: Filter SNPs\n",
    "subprocess.run([\n",
    "    \"plink\", \"--bfile\", plink_prefix,\n",
    "    \"--allow-extra-chr\",  \n",
    "    \"--maf\", \"0.1\",\n",
    "    \"--geno\", \"0.05\",\n",
    "    \"--make-bed\",\n",
    "    \"--out\", filtered_prefix\n",
    "], check=True)\n",
    "\n",
    "# STEP 4: Export to VCF\n",
    "subprocess.run([\n",
    "    \"plink\", \"--bfile\", filtered_prefix,\n",
    "    \"--allow-extra-chr\",  \n",
    "    \"--recode\", \"vcf\",\n",
    "    \"--out\", final_vcf.replace(\".vcf\", \"\")\n",
    "], check=True)\n",
    "\n",
    "print(f\"Done! Final VCF: {final_vcf}\")\n"
   ]
  }
 ],
 "metadata": {
  "kernelspec": {
   "display_name": "Python 3 (ipykernel)",
   "language": "python",
   "name": "python3"
  },
  "language_info": {
   "codemirror_mode": {
    "name": "ipython",
    "version": 3
   },
   "file_extension": ".py",
   "mimetype": "text/x-python",
   "name": "python",
   "nbconvert_exporter": "python",
   "pygments_lexer": "ipython3",
   "version": "3.8.10"
  }
 },
 "nbformat": 4,
 "nbformat_minor": 5
}
